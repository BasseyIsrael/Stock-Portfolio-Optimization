{
 "cells": [
  {
   "cell_type": "markdown",
   "metadata": {},
   "source": [
    "## **Portfolio Allocation and Optimization: Monte Carlo Simulation and Optimization Algorithm**"
   ]
  },
  {
   "cell_type": "markdown",
   "metadata": {},
   "source": [
    "A Trading manager can optimize their Trading strategies based on the forcast Buy/Sell signal. \n",
    "This notebook proves useful to a Portfolio Manager and can be used to build a Trading Strategy using Sharpe Ratio and Optimization to demonstrate how a Portfolio can be optimized for higher gains. \n",
    "\n",
    "\n",
    "--The Sharpe ratio measures the performance of an investment compared to a risk-free asset, after adjusting for its risk. It is defined as the difference between the returns of the investment and the risk-free return, divided by the standard deviation of the investment. "
   ]
  },
  {
   "cell_type": "code",
   "execution_count": 2,
   "metadata": {},
   "outputs": [],
   "source": [
    "import pandas as pd\n",
    "import matplotlib.pyplot as plt\n",
    "from pylab import rcParams\n",
    "import numpy as np\n",
    "import seaborn as sns\n",
    "import os\n",
    "\n",
    "from sklearn.ensemble import RandomForestRegressor\n",
    "from sklearn.model_selection import cross_val_score, train_test_split, GridSearchCV\n",
    "from sklearn.feature_selection import RFECV, SelectFromModel, SelectKBest\n",
    "from sklearn.preprocessing import MinMaxScaler\n",
    "from sklearn.model_selection import train_test_split\n",
    "from tqdm import tqdm_notebook\n",
    "from sklearn.preprocessing import StandardScaler\n",
    "from sklearn import metrics\n",
    "\n",
    "from keras.optimizers import RMSprop, SGD, Adam\n",
    "from keras.layers import LSTM, Dense, Dropout\n",
    "from keras.models import Sequential\n",
    "%matplotlib inline\n",
    "\n",
    "os.chdir(r'C:\\Users\\Israel\\Documents\\GitHub\\Stock-Portfolio-Optimization')\n"
   ]
  },
  {
   "cell_type": "code",
   "execution_count": 24,
   "metadata": {},
   "outputs": [
    {
     "data": {
      "text/html": [
       "<div>\n",
       "<style scoped>\n",
       "    .dataframe tbody tr th:only-of-type {\n",
       "        vertical-align: middle;\n",
       "    }\n",
       "\n",
       "    .dataframe tbody tr th {\n",
       "        vertical-align: top;\n",
       "    }\n",
       "\n",
       "    .dataframe thead th {\n",
       "        text-align: right;\n",
       "    }\n",
       "</style>\n",
       "<table border=\"1\" class=\"dataframe\">\n",
       "  <thead>\n",
       "    <tr style=\"text-align: right;\">\n",
       "      <th></th>\n",
       "      <th>Close</th>\n",
       "    </tr>\n",
       "    <tr>\n",
       "      <th>Date</th>\n",
       "      <th></th>\n",
       "    </tr>\n",
       "  </thead>\n",
       "  <tbody>\n",
       "    <tr>\n",
       "      <th>2018-09-12</th>\n",
       "      <td>164.74</td>\n",
       "    </tr>\n",
       "    <tr>\n",
       "      <th>2018-09-13</th>\n",
       "      <td>162.40</td>\n",
       "    </tr>\n",
       "    <tr>\n",
       "      <th>2018-09-14</th>\n",
       "      <td>160.84</td>\n",
       "    </tr>\n",
       "    <tr>\n",
       "      <th>2018-09-17</th>\n",
       "      <td>158.14</td>\n",
       "    </tr>\n",
       "    <tr>\n",
       "      <th>2018-09-18</th>\n",
       "      <td>157.77</td>\n",
       "    </tr>\n",
       "    <tr>\n",
       "      <th>...</th>\n",
       "      <td>...</td>\n",
       "    </tr>\n",
       "    <tr>\n",
       "      <th>2020-01-14</th>\n",
       "      <td>207.32</td>\n",
       "    </tr>\n",
       "    <tr>\n",
       "      <th>2020-01-15</th>\n",
       "      <td>209.77</td>\n",
       "    </tr>\n",
       "    <tr>\n",
       "      <th>2020-01-16</th>\n",
       "      <td>210.85</td>\n",
       "    </tr>\n",
       "    <tr>\n",
       "      <th>2020-01-17</th>\n",
       "      <td>211.98</td>\n",
       "    </tr>\n",
       "    <tr>\n",
       "      <th>2020-01-21</th>\n",
       "      <td>211.16</td>\n",
       "    </tr>\n",
       "  </tbody>\n",
       "</table>\n",
       "<p>341 rows × 1 columns</p>\n",
       "</div>"
      ],
      "text/plain": [
       "             Close\n",
       "Date              \n",
       "2018-09-12  164.74\n",
       "2018-09-13  162.40\n",
       "2018-09-14  160.84\n",
       "2018-09-17  158.14\n",
       "2018-09-18  157.77\n",
       "...            ...\n",
       "2020-01-14  207.32\n",
       "2020-01-15  209.77\n",
       "2020-01-16  210.85\n",
       "2020-01-17  211.98\n",
       "2020-01-21  211.16\n",
       "\n",
       "[341 rows x 1 columns]"
      ]
     },
     "execution_count": 24,
     "metadata": {},
     "output_type": "execute_result"
    }
   ],
   "source": [
    "mcd = pd.read_csv('MCD.csv')\n",
    "#best features\n",
    "features_selected = ['Date','Close(t)']\n",
    "mcd = mcd[features_selected]\n",
    "mcd = mcd.iloc[3500:-60, :]\n",
    "mcd = mcd.rename(columns={'Close(t)':'Close'})\n",
    "mcd = mcd.set_index('Date')\n",
    "mcd"
   ]
  },
  {
   "cell_type": "code",
   "execution_count": 25,
   "metadata": {},
   "outputs": [
    {
     "data": {
      "image/png": "[encoded data removed]",
      "text/plain": [
       "<Figure size 432x288 with 1 Axes>"
      ]
     },
     "metadata": {
      "needs_background": "light"
     },
     "output_type": "display_data"
    }
   ],
   "source": [
    "from matplotlib import pyplot as plt\n",
    "plt.figure()\n",
    "plt.plot(mcd[\"Close\"])\n",
    "plt.title('MCD stock price history')\n",
    "plt.ylabel('Price (USD)')\n",
    "plt.xlabel('Days')\n",
    "plt.legend(['Close'], loc='upper left')\n",
    "plt.show()"
   ]
  },
  {
   "cell_type": "markdown",
   "metadata": {},
   "source": [
    "### **Obtain Stock prices for 3 more stocks (Coka cola , Goldman Sachs and Johnsons & Johnsons)**"
   ]
  },
  {
   "cell_type": "code",
   "execution_count": 28,
   "metadata": {},
   "outputs": [],
   "source": [
    "gs = pd.read_csv('GS.csv')\n",
    "#best features\n",
    "features_selected = ['Date','Close(t)']\n",
    "gs = gs[features_selected]\n",
    "gs = gs.iloc[3500:-60, :]\n",
    "gs = gs.rename(columns={'Close(t)':'Close'})\n",
    "gs = gs.set_index('Date')\n",
    "\n",
    "\n",
    "jnj = pd.read_csv('JNJ.csv')\n",
    "#best features\n",
    "features_selected = ['Date','Close(t)']\n",
    "jnj = jnj[features_selected]\n",
    "jnj = jnj.iloc[3500:-60, :]\n",
    "jnj = jnj.rename(columns={'Close(t)':'Close'})\n",
    "jnj = jnj.set_index('Date')\n",
    "\n",
    "\n",
    "ko = pd.read_csv('KO.csv')\n",
    "#best features\n",
    "features_selected = ['Date','Close(t)']\n",
    "ko = ko[features_selected]\n",
    "ko = ko.iloc[3500:-60, :]\n",
    "ko = ko.rename(columns={'Close(t)':'Close'})\n",
    "ko = ko.set_index('Date')"
   ]
  },
  {
   "cell_type": "code",
   "execution_count": 29,
   "metadata": {},
   "outputs": [],
   "source": [
    "for stock_df in (mcd, ko, gs, jnj): \n",
    "    stock_df['Normed Return'] = stock_df['Close'] /stock_df.iloc[0]['Close']"
   ]
  },
  {
   "cell_type": "markdown",
   "metadata": {},
   "source": [
    "### Normalized returns "
   ]
  },
  {
   "cell_type": "code",
   "execution_count": 30,
   "metadata": {},
   "outputs": [
    {
     "data": {
      "text/html": [
       "<div>\n",
       "<style scoped>\n",
       "    .dataframe tbody tr th:only-of-type {\n",
       "        vertical-align: middle;\n",
       "    }\n",
       "\n",
       "    .dataframe tbody tr th {\n",
       "        vertical-align: top;\n",
       "    }\n",
       "\n",
       "    .dataframe thead th {\n",
       "        text-align: right;\n",
       "    }\n",
       "</style>\n",
       "<table border=\"1\" class=\"dataframe\">\n",
       "  <thead>\n",
       "    <tr style=\"text-align: right;\">\n",
       "      <th></th>\n",
       "      <th>Close</th>\n",
       "      <th>Normed Return</th>\n",
       "    </tr>\n",
       "    <tr>\n",
       "      <th>Date</th>\n",
       "      <th></th>\n",
       "      <th></th>\n",
       "    </tr>\n",
       "  </thead>\n",
       "  <tbody>\n",
       "    <tr>\n",
       "      <th>2018-09-12</th>\n",
       "      <td>139.36</td>\n",
       "      <td>1.000000</td>\n",
       "    </tr>\n",
       "    <tr>\n",
       "      <th>2018-09-13</th>\n",
       "      <td>139.89</td>\n",
       "      <td>1.003803</td>\n",
       "    </tr>\n",
       "    <tr>\n",
       "      <th>2018-09-14</th>\n",
       "      <td>139.49</td>\n",
       "      <td>1.000933</td>\n",
       "    </tr>\n",
       "    <tr>\n",
       "      <th>2018-09-17</th>\n",
       "      <td>139.96</td>\n",
       "      <td>1.004305</td>\n",
       "    </tr>\n",
       "    <tr>\n",
       "      <th>2018-09-18</th>\n",
       "      <td>140.54</td>\n",
       "      <td>1.008467</td>\n",
       "    </tr>\n",
       "  </tbody>\n",
       "</table>\n",
       "</div>"
      ],
      "text/plain": [
       "             Close  Normed Return\n",
       "Date                             \n",
       "2018-09-12  139.36       1.000000\n",
       "2018-09-13  139.89       1.003803\n",
       "2018-09-14  139.49       1.000933\n",
       "2018-09-17  139.96       1.004305\n",
       "2018-09-18  140.54       1.008467"
      ]
     },
     "execution_count": 30,
     "metadata": {},
     "output_type": "execute_result"
    }
   ],
   "source": [
    "jnj.head()"
   ]
  },
  {
   "cell_type": "code",
   "execution_count": 31,
   "metadata": {},
   "outputs": [
    {
     "data": {
      "text/html": [
       "<div>\n",
       "<style scoped>\n",
       "    .dataframe tbody tr th:only-of-type {\n",
       "        vertical-align: middle;\n",
       "    }\n",
       "\n",
       "    .dataframe tbody tr th {\n",
       "        vertical-align: top;\n",
       "    }\n",
       "\n",
       "    .dataframe thead th {\n",
       "        text-align: right;\n",
       "    }\n",
       "</style>\n",
       "<table border=\"1\" class=\"dataframe\">\n",
       "  <thead>\n",
       "    <tr style=\"text-align: right;\">\n",
       "      <th></th>\n",
       "      <th>Close</th>\n",
       "      <th>Normed Return</th>\n",
       "    </tr>\n",
       "    <tr>\n",
       "      <th>Date</th>\n",
       "      <th></th>\n",
       "      <th></th>\n",
       "    </tr>\n",
       "  </thead>\n",
       "  <tbody>\n",
       "    <tr>\n",
       "      <th>2018-09-12</th>\n",
       "      <td>46.24</td>\n",
       "      <td>1.000000</td>\n",
       "    </tr>\n",
       "    <tr>\n",
       "      <th>2018-09-13</th>\n",
       "      <td>45.83</td>\n",
       "      <td>0.991133</td>\n",
       "    </tr>\n",
       "    <tr>\n",
       "      <th>2018-09-14</th>\n",
       "      <td>45.99</td>\n",
       "      <td>0.994593</td>\n",
       "    </tr>\n",
       "    <tr>\n",
       "      <th>2018-09-17</th>\n",
       "      <td>46.32</td>\n",
       "      <td>1.001730</td>\n",
       "    </tr>\n",
       "    <tr>\n",
       "      <th>2018-09-18</th>\n",
       "      <td>45.93</td>\n",
       "      <td>0.993296</td>\n",
       "    </tr>\n",
       "  </tbody>\n",
       "</table>\n",
       "</div>"
      ],
      "text/plain": [
       "            Close  Normed Return\n",
       "Date                            \n",
       "2018-09-12  46.24       1.000000\n",
       "2018-09-13  45.83       0.991133\n",
       "2018-09-14  45.99       0.994593\n",
       "2018-09-17  46.32       1.001730\n",
       "2018-09-18  45.93       0.993296"
      ]
     },
     "execution_count": 31,
     "metadata": {},
     "output_type": "execute_result"
    }
   ],
   "source": [
    "ko.head()"
   ]
  },
  {
   "cell_type": "markdown",
   "metadata": {},
   "source": [
    "### Portfolio Allocation"
   ]
  },
  {
   "cell_type": "markdown",
   "metadata": {},
   "source": [
    "Let take the starting Portfolio Allocations consisting of these 4 stocks as - \n",
    "\n",
    "- 25% in MCD\n",
    "- 10% in KO\n",
    "- 30% in JNJ\n",
    "- 35% in GS"
   ]
  },
  {
   "cell_type": "code",
   "execution_count": 32,
   "metadata": {},
   "outputs": [],
   "source": [
    "for stock_df, allo in zip((mcd, ko, jnj, gs),[.25,.1,.3,.35]):\n",
    "    stock_df['Allocation'] = stock_df['Normed Return']*allo"
   ]
  },
  {
   "cell_type": "code",
   "execution_count": 33,
   "metadata": {},
   "outputs": [
    {
     "data": {
      "text/html": [
       "<div>\n",
       "<style scoped>\n",
       "    .dataframe tbody tr th:only-of-type {\n",
       "        vertical-align: middle;\n",
       "    }\n",
       "\n",
       "    .dataframe tbody tr th {\n",
       "        vertical-align: top;\n",
       "    }\n",
       "\n",
       "    .dataframe thead th {\n",
       "        text-align: right;\n",
       "    }\n",
       "</style>\n",
       "<table border=\"1\" class=\"dataframe\">\n",
       "  <thead>\n",
       "    <tr style=\"text-align: right;\">\n",
       "      <th></th>\n",
       "      <th>Close</th>\n",
       "      <th>Normed Return</th>\n",
       "      <th>Allocation</th>\n",
       "    </tr>\n",
       "    <tr>\n",
       "      <th>Date</th>\n",
       "      <th></th>\n",
       "      <th></th>\n",
       "      <th></th>\n",
       "    </tr>\n",
       "  </thead>\n",
       "  <tbody>\n",
       "    <tr>\n",
       "      <th>2018-09-12</th>\n",
       "      <td>164.74</td>\n",
       "      <td>1.000000</td>\n",
       "      <td>0.250000</td>\n",
       "    </tr>\n",
       "    <tr>\n",
       "      <th>2018-09-13</th>\n",
       "      <td>162.40</td>\n",
       "      <td>0.985796</td>\n",
       "      <td>0.246449</td>\n",
       "    </tr>\n",
       "    <tr>\n",
       "      <th>2018-09-14</th>\n",
       "      <td>160.84</td>\n",
       "      <td>0.976326</td>\n",
       "      <td>0.244082</td>\n",
       "    </tr>\n",
       "    <tr>\n",
       "      <th>2018-09-17</th>\n",
       "      <td>158.14</td>\n",
       "      <td>0.959937</td>\n",
       "      <td>0.239984</td>\n",
       "    </tr>\n",
       "    <tr>\n",
       "      <th>2018-09-18</th>\n",
       "      <td>157.77</td>\n",
       "      <td>0.957691</td>\n",
       "      <td>0.239423</td>\n",
       "    </tr>\n",
       "  </tbody>\n",
       "</table>\n",
       "</div>"
      ],
      "text/plain": [
       "             Close  Normed Return  Allocation\n",
       "Date                                         \n",
       "2018-09-12  164.74       1.000000    0.250000\n",
       "2018-09-13  162.40       0.985796    0.246449\n",
       "2018-09-14  160.84       0.976326    0.244082\n",
       "2018-09-17  158.14       0.959937    0.239984\n",
       "2018-09-18  157.77       0.957691    0.239423"
      ]
     },
     "execution_count": 33,
     "metadata": {},
     "output_type": "execute_result"
    }
   ],
   "source": [
    "mcd.head()"
   ]
  },
  {
   "cell_type": "markdown",
   "metadata": {},
   "source": [
    " Assuming the starting portfolio Position of 1 million $, lets look at how the value of our position changes in each stock"
   ]
  },
  {
   "cell_type": "code",
   "execution_count": 34,
   "metadata": {},
   "outputs": [],
   "source": [
    "# value of each position\n",
    "for stock_df in (mcd, ko, jnj, gs):\n",
    "    stock_df['Position Value'] = stock_df['Allocation']*1000000"
   ]
  },
  {
   "cell_type": "code",
   "execution_count": 36,
   "metadata": {},
   "outputs": [
    {
     "data": {
      "text/html": [
       "<div>\n",
       "<style scoped>\n",
       "    .dataframe tbody tr th:only-of-type {\n",
       "        vertical-align: middle;\n",
       "    }\n",
       "\n",
       "    .dataframe tbody tr th {\n",
       "        vertical-align: top;\n",
       "    }\n",
       "\n",
       "    .dataframe thead th {\n",
       "        text-align: right;\n",
       "    }\n",
       "</style>\n",
       "<table border=\"1\" class=\"dataframe\">\n",
       "  <thead>\n",
       "    <tr style=\"text-align: right;\">\n",
       "      <th></th>\n",
       "      <th>Close</th>\n",
       "      <th>Normed Return</th>\n",
       "      <th>Allocation</th>\n",
       "      <th>Position Value</th>\n",
       "    </tr>\n",
       "    <tr>\n",
       "      <th>Date</th>\n",
       "      <th></th>\n",
       "      <th></th>\n",
       "      <th></th>\n",
       "      <th></th>\n",
       "    </tr>\n",
       "  </thead>\n",
       "  <tbody>\n",
       "    <tr>\n",
       "      <th>2018-09-12</th>\n",
       "      <td>228.15</td>\n",
       "      <td>1.000000</td>\n",
       "      <td>0.350000</td>\n",
       "      <td>350000.000000</td>\n",
       "    </tr>\n",
       "    <tr>\n",
       "      <th>2018-09-13</th>\n",
       "      <td>228.33</td>\n",
       "      <td>1.000789</td>\n",
       "      <td>0.350276</td>\n",
       "      <td>350276.134122</td>\n",
       "    </tr>\n",
       "    <tr>\n",
       "      <th>2018-09-14</th>\n",
       "      <td>229.24</td>\n",
       "      <td>1.004778</td>\n",
       "      <td>0.351672</td>\n",
       "      <td>351672.145518</td>\n",
       "    </tr>\n",
       "    <tr>\n",
       "      <th>2018-09-17</th>\n",
       "      <td>227.89</td>\n",
       "      <td>0.998860</td>\n",
       "      <td>0.349601</td>\n",
       "      <td>349601.139601</td>\n",
       "    </tr>\n",
       "    <tr>\n",
       "      <th>2018-09-18</th>\n",
       "      <td>228.89</td>\n",
       "      <td>1.003243</td>\n",
       "      <td>0.351135</td>\n",
       "      <td>351135.218058</td>\n",
       "    </tr>\n",
       "    <tr>\n",
       "      <th>2018-09-19</th>\n",
       "      <td>235.58</td>\n",
       "      <td>1.032566</td>\n",
       "      <td>0.361398</td>\n",
       "      <td>361398.202937</td>\n",
       "    </tr>\n",
       "    <tr>\n",
       "      <th>2018-09-20</th>\n",
       "      <td>237.40</td>\n",
       "      <td>1.040544</td>\n",
       "      <td>0.364190</td>\n",
       "      <td>364190.225729</td>\n",
       "    </tr>\n",
       "    <tr>\n",
       "      <th>2018-09-21</th>\n",
       "      <td>235.34</td>\n",
       "      <td>1.031514</td>\n",
       "      <td>0.361030</td>\n",
       "      <td>361030.024107</td>\n",
       "    </tr>\n",
       "    <tr>\n",
       "      <th>2018-09-24</th>\n",
       "      <td>232.90</td>\n",
       "      <td>1.020820</td>\n",
       "      <td>0.357287</td>\n",
       "      <td>357286.872671</td>\n",
       "    </tr>\n",
       "    <tr>\n",
       "      <th>2018-09-25</th>\n",
       "      <td>232.50</td>\n",
       "      <td>1.019066</td>\n",
       "      <td>0.356673</td>\n",
       "      <td>356673.241289</td>\n",
       "    </tr>\n",
       "  </tbody>\n",
       "</table>\n",
       "</div>"
      ],
      "text/plain": [
       "             Close  Normed Return  Allocation  Position Value\n",
       "Date                                                         \n",
       "2018-09-12  228.15       1.000000    0.350000   350000.000000\n",
       "2018-09-13  228.33       1.000789    0.350276   350276.134122\n",
       "2018-09-14  229.24       1.004778    0.351672   351672.145518\n",
       "2018-09-17  227.89       0.998860    0.349601   349601.139601\n",
       "2018-09-18  228.89       1.003243    0.351135   351135.218058\n",
       "2018-09-19  235.58       1.032566    0.361398   361398.202937\n",
       "2018-09-20  237.40       1.040544    0.364190   364190.225729\n",
       "2018-09-21  235.34       1.031514    0.361030   361030.024107\n",
       "2018-09-24  232.90       1.020820    0.357287   357286.872671\n",
       "2018-09-25  232.50       1.019066    0.356673   356673.241289"
      ]
     },
     "execution_count": 36,
     "metadata": {},
     "output_type": "execute_result"
    }
   ],
   "source": [
    "gs.head(10)"
   ]
  },
  {
   "cell_type": "markdown",
   "metadata": {},
   "source": [
    "You can see how the value in increasing. Lets create a single dataframe for all of the 4 stocks"
   ]
  },
  {
   "cell_type": "code",
   "execution_count": 37,
   "metadata": {},
   "outputs": [],
   "source": [
    "# create list of all position values\n",
    "all_pos_vals = [mcd['Position Value'], ko['Position Value'], jnj['Position Value'], gs['Position Value']]\n",
    "\n",
    "# concatenate the list of position values\n",
    "portfolio_val = pd.concat(all_pos_vals, axis=1)\n",
    "\n",
    "# set the column names\n",
    "portfolio_val.columns = ['MCD', 'KO', 'JNJ', 'GS']\n",
    "\n",
    "# add a total portfolio column\n",
    "portfolio_val['Total'] = portfolio_val.sum(axis=1)"
   ]
  },
  {
   "cell_type": "code",
   "execution_count": 38,
   "metadata": {},
   "outputs": [
    {
     "data": {
      "text/html": [
       "<div>\n",
       "<style scoped>\n",
       "    .dataframe tbody tr th:only-of-type {\n",
       "        vertical-align: middle;\n",
       "    }\n",
       "\n",
       "    .dataframe tbody tr th {\n",
       "        vertical-align: top;\n",
       "    }\n",
       "\n",
       "    .dataframe thead th {\n",
       "        text-align: right;\n",
       "    }\n",
       "</style>\n",
       "<table border=\"1\" class=\"dataframe\">\n",
       "  <thead>\n",
       "    <tr style=\"text-align: right;\">\n",
       "      <th></th>\n",
       "      <th>MCD</th>\n",
       "      <th>KO</th>\n",
       "      <th>JNJ</th>\n",
       "      <th>GS</th>\n",
       "      <th>Total</th>\n",
       "    </tr>\n",
       "    <tr>\n",
       "      <th>Date</th>\n",
       "      <th></th>\n",
       "      <th></th>\n",
       "      <th></th>\n",
       "      <th></th>\n",
       "      <th></th>\n",
       "    </tr>\n",
       "  </thead>\n",
       "  <tbody>\n",
       "    <tr>\n",
       "      <th>2018-09-12</th>\n",
       "      <td>250000.000000</td>\n",
       "      <td>100000.000000</td>\n",
       "      <td>300000.000000</td>\n",
       "      <td>350000.000000</td>\n",
       "      <td>1.000000e+06</td>\n",
       "    </tr>\n",
       "    <tr>\n",
       "      <th>2018-09-13</th>\n",
       "      <td>246448.949860</td>\n",
       "      <td>99113.321799</td>\n",
       "      <td>301140.929966</td>\n",
       "      <td>350276.134122</td>\n",
       "      <td>9.969793e+05</td>\n",
       "    </tr>\n",
       "    <tr>\n",
       "      <th>2018-09-14</th>\n",
       "      <td>244081.583101</td>\n",
       "      <td>99459.342561</td>\n",
       "      <td>300279.850746</td>\n",
       "      <td>351672.145518</td>\n",
       "      <td>9.954929e+05</td>\n",
       "    </tr>\n",
       "    <tr>\n",
       "      <th>2018-09-17</th>\n",
       "      <td>239984.217555</td>\n",
       "      <td>100173.010381</td>\n",
       "      <td>301291.618829</td>\n",
       "      <td>349601.139601</td>\n",
       "      <td>9.910500e+05</td>\n",
       "    </tr>\n",
       "    <tr>\n",
       "      <th>2018-09-18</th>\n",
       "      <td>239422.726721</td>\n",
       "      <td>99329.584775</td>\n",
       "      <td>302540.183697</td>\n",
       "      <td>351135.218058</td>\n",
       "      <td>9.924277e+05</td>\n",
       "    </tr>\n",
       "    <tr>\n",
       "      <th>2018-09-19</th>\n",
       "      <td>241562.462061</td>\n",
       "      <td>99394.463668</td>\n",
       "      <td>302367.967853</td>\n",
       "      <td>361398.202937</td>\n",
       "      <td>1.004723e+06</td>\n",
       "    </tr>\n",
       "    <tr>\n",
       "      <th>2018-09-20</th>\n",
       "      <td>244005.705961</td>\n",
       "      <td>100865.051903</td>\n",
       "      <td>305640.068886</td>\n",
       "      <td>364190.225729</td>\n",
       "      <td>1.014701e+06</td>\n",
       "    </tr>\n",
       "    <tr>\n",
       "      <th>2018-09-21</th>\n",
       "      <td>250849.823965</td>\n",
       "      <td>100735.294118</td>\n",
       "      <td>307577.497130</td>\n",
       "      <td>361030.024107</td>\n",
       "      <td>1.020193e+06</td>\n",
       "    </tr>\n",
       "    <tr>\n",
       "      <th>2018-09-24</th>\n",
       "      <td>247829.913804</td>\n",
       "      <td>99632.352941</td>\n",
       "      <td>302389.494834</td>\n",
       "      <td>357286.872671</td>\n",
       "      <td>1.007139e+06</td>\n",
       "    </tr>\n",
       "    <tr>\n",
       "      <th>2018-09-25</th>\n",
       "      <td>252534.296467</td>\n",
       "      <td>98788.927336</td>\n",
       "      <td>298450.057405</td>\n",
       "      <td>356673.241289</td>\n",
       "      <td>1.006447e+06</td>\n",
       "    </tr>\n",
       "  </tbody>\n",
       "</table>\n",
       "</div>"
      ],
      "text/plain": [
       "                      MCD             KO            JNJ             GS  \\\n",
       "Date                                                                     \n",
       "2018-09-12  250000.000000  100000.000000  300000.000000  350000.000000   \n",
       "2018-09-13  246448.949860   99113.321799  301140.929966  350276.134122   \n",
       "2018-09-14  244081.583101   99459.342561  300279.850746  351672.145518   \n",
       "2018-09-17  239984.217555  100173.010381  301291.618829  349601.139601   \n",
       "2018-09-18  239422.726721   99329.584775  302540.183697  351135.218058   \n",
       "2018-09-19  241562.462061   99394.463668  302367.967853  361398.202937   \n",
       "2018-09-20  244005.705961  100865.051903  305640.068886  364190.225729   \n",
       "2018-09-21  250849.823965  100735.294118  307577.497130  361030.024107   \n",
       "2018-09-24  247829.913804   99632.352941  302389.494834  357286.872671   \n",
       "2018-09-25  252534.296467   98788.927336  298450.057405  356673.241289   \n",
       "\n",
       "                   Total  \n",
       "Date                      \n",
       "2018-09-12  1.000000e+06  \n",
       "2018-09-13  9.969793e+05  \n",
       "2018-09-14  9.954929e+05  \n",
       "2018-09-17  9.910500e+05  \n",
       "2018-09-18  9.924277e+05  \n",
       "2018-09-19  1.004723e+06  \n",
       "2018-09-20  1.014701e+06  \n",
       "2018-09-21  1.020193e+06  \n",
       "2018-09-24  1.007139e+06  \n",
       "2018-09-25  1.006447e+06  "
      ]
     },
     "execution_count": 38,
     "metadata": {},
     "output_type": "execute_result"
    }
   ],
   "source": [
    "portfolio_val.head(10)"
   ]
  },
  {
   "cell_type": "markdown",
   "metadata": {},
   "source": [
    "### we can see day-by-day how our positions and portfolio value is changing."
   ]
  },
  {
   "cell_type": "code",
   "execution_count": 39,
   "metadata": {},
   "outputs": [
    {
     "data": {
      "text/plain": [
       "<matplotlib.axes._subplots.AxesSubplot at 0x23ef7f184e0>"
      ]
     },
     "execution_count": 39,
     "metadata": {},
     "output_type": "execute_result"
    },
    {
     "data": {
      "image/png": "[encoded data removed]",
      "text/plain": [
       "<Figure size 720x576 with 1 Axes>"
      ]
     },
     "metadata": {
      "needs_background": "light"
     },
     "output_type": "display_data"
    }
   ],
   "source": [
    "# plot our portfolio\n",
    "import matplotlib.pyplot as plt\n",
    "%matplotlib inline\n",
    "portfolio_val['Total'].plot(figsize=(10,8))"
   ]
  },
  {
   "cell_type": "markdown",
   "metadata": {},
   "source": [
    "### We have made 150k for the year\n",
    "\n",
    "Lets also look at individual contributions of each stock in our portfolio"
   ]
  },
  {
   "cell_type": "code",
   "execution_count": 40,
   "metadata": {},
   "outputs": [
    {
     "data": {
      "text/plain": [
       "<matplotlib.axes._subplots.AxesSubplot at 0x23ef800c358>"
      ]
     },
     "execution_count": 40,
     "metadata": {},
     "output_type": "execute_result"
    },
    {
     "data": {
      "image/png": "[encoded data removed]",
      "text/plain": [
       "<Figure size 720x576 with 1 Axes>"
      ]
     },
     "metadata": {
      "needs_background": "light"
     },
     "output_type": "display_data"
    }
   ],
   "source": [
    "portfolio_val.drop('Total',axis=1).plot(figsize=(10,8))"
   ]
  },
  {
   "cell_type": "markdown",
   "metadata": {},
   "source": [
    "### Let's move towards implementing MCMC and Optimization"
   ]
  },
  {
   "cell_type": "code",
   "execution_count": 41,
   "metadata": {},
   "outputs": [],
   "source": [
    "# Daily Return\n",
    "portfolio_val['Daily Return'] = portfolio_val['Total'].pct_change(1)"
   ]
  },
  {
   "cell_type": "code",
   "execution_count": 43,
   "metadata": {},
   "outputs": [
    {
     "data": {
      "text/plain": [
       "<matplotlib.axes._subplots.AxesSubplot at 0x23ef83fbc50>"
      ]
     },
     "execution_count": 43,
     "metadata": {},
     "output_type": "execute_result"
    },
    {
     "data": {
      "image/png": "[encoded data removed]",
      "text/plain": [
       "<Figure size 288x360 with 1 Axes>"
      ]
     },
     "metadata": {
      "needs_background": "light"
     },
     "output_type": "display_data"
    }
   ],
   "source": [
    "# average daily return\n",
    "portfolio_val['Daily Return'].mean()\n",
    "\n",
    "# standard deviation\n",
    "portfolio_val['Daily Return'].std()\n",
    "\n",
    "# plot histogram of daily returns\n",
    "portfolio_val['Daily Return'].plot(kind='hist', bins=50, figsize=(4,5))"
   ]
  },
  {
   "cell_type": "markdown",
   "metadata": {},
   "source": [
    "Calculating the total portfolio return "
   ]
  },
  {
   "cell_type": "code",
   "execution_count": 45,
   "metadata": {},
   "outputs": [
    {
     "data": {
      "text/plain": [
       "14.233819436382689"
      ]
     },
     "execution_count": 45,
     "metadata": {},
     "output_type": "execute_result"
    }
   ],
   "source": [
    "# cumulative portfolio return\n",
    "cum_return = 100 * (portfolio_val['Total'][-1]/portfolio_val['Total'][0] - 1)\n",
    "cum_return"
   ]
  },
  {
   "cell_type": "markdown",
   "metadata": {},
   "source": [
    "### Calculate Sharpe Ratio"
   ]
  },
  {
   "cell_type": "markdown",
   "metadata": {},
   "source": [
    "The Sharpe Ratio is the mean (portfolio return - the risk free rate) % standard deviation."
   ]
  },
  {
   "cell_type": "code",
   "execution_count": 47,
   "metadata": {},
   "outputs": [
    {
     "data": {
      "text/plain": [
       "0.7923843343475722"
      ]
     },
     "execution_count": 47,
     "metadata": {},
     "output_type": "execute_result"
    }
   ],
   "source": [
    "sharpe_ratio = portfolio_val['Daily Return'].mean() / portfolio_val['Daily Return'].std()\n",
    "ASR = (252**0.5) * sharpe_ratio\n",
    "ASR"
   ]
  },
  {
   "cell_type": "markdown",
   "metadata": {},
   "source": [
    "Annualized Share Ratio is 0.79"
   ]
  },
  {
   "cell_type": "markdown",
   "metadata": {},
   "source": [
    "### Optimization using Monte Carlo Simulation"
   ]
  },
  {
   "cell_type": "markdown",
   "metadata": {},
   "source": [
    "We will check a bunch of random allocations and analyse which one has the best Sharpe Ratio.\n",
    "#### This process of randomly guessing is known as a Monte Carlo Simulation.\n",
    "\n",
    "We will randomly assign weights to our stocks in the portfolio using mcmc and then calculate the average daily return & SD (Standard deviation) of return. Then we can calculate the Sharpe Ratio for many randomly selected allocations. "
   ]
  },
  {
   "cell_type": "markdown",
   "metadata": {},
   "source": [
    "We will further use Optimzation Algorithm to minimize for this. \n",
    "\n",
    "Minimization is a similar concept to optimization - let's say we have a simple equation y = x2 - the idea is we're trying to figure out what value of x will minimize y, in this example 0.\n",
    "\n",
    "This idea of a minimizer will allow us to build an optimizer."
   ]
  },
  {
   "cell_type": "code",
   "execution_count": 52,
   "metadata": {},
   "outputs": [
    {
     "data": {
      "text/html": [
       "<div>\n",
       "<style scoped>\n",
       "    .dataframe tbody tr th:only-of-type {\n",
       "        vertical-align: middle;\n",
       "    }\n",
       "\n",
       "    .dataframe tbody tr th {\n",
       "        vertical-align: top;\n",
       "    }\n",
       "\n",
       "    .dataframe thead th {\n",
       "        text-align: right;\n",
       "    }\n",
       "</style>\n",
       "<table border=\"1\" class=\"dataframe\">\n",
       "  <thead>\n",
       "    <tr style=\"text-align: right;\">\n",
       "      <th></th>\n",
       "      <th>MCD</th>\n",
       "      <th>KO</th>\n",
       "      <th>GS</th>\n",
       "      <th>JNJ</th>\n",
       "    </tr>\n",
       "    <tr>\n",
       "      <th>Date</th>\n",
       "      <th></th>\n",
       "      <th></th>\n",
       "      <th></th>\n",
       "      <th></th>\n",
       "    </tr>\n",
       "  </thead>\n",
       "  <tbody>\n",
       "    <tr>\n",
       "      <th>2018-09-12</th>\n",
       "      <td>164.74</td>\n",
       "      <td>46.24</td>\n",
       "      <td>228.15</td>\n",
       "      <td>139.36</td>\n",
       "    </tr>\n",
       "    <tr>\n",
       "      <th>2018-09-13</th>\n",
       "      <td>162.40</td>\n",
       "      <td>45.83</td>\n",
       "      <td>228.33</td>\n",
       "      <td>139.89</td>\n",
       "    </tr>\n",
       "    <tr>\n",
       "      <th>2018-09-14</th>\n",
       "      <td>160.84</td>\n",
       "      <td>45.99</td>\n",
       "      <td>229.24</td>\n",
       "      <td>139.49</td>\n",
       "    </tr>\n",
       "    <tr>\n",
       "      <th>2018-09-17</th>\n",
       "      <td>158.14</td>\n",
       "      <td>46.32</td>\n",
       "      <td>227.89</td>\n",
       "      <td>139.96</td>\n",
       "    </tr>\n",
       "    <tr>\n",
       "      <th>2018-09-18</th>\n",
       "      <td>157.77</td>\n",
       "      <td>45.93</td>\n",
       "      <td>228.89</td>\n",
       "      <td>140.54</td>\n",
       "    </tr>\n",
       "    <tr>\n",
       "      <th>...</th>\n",
       "      <td>...</td>\n",
       "      <td>...</td>\n",
       "      <td>...</td>\n",
       "      <td>...</td>\n",
       "    </tr>\n",
       "    <tr>\n",
       "      <th>2020-01-14</th>\n",
       "      <td>207.32</td>\n",
       "      <td>56.00</td>\n",
       "      <td>245.66</td>\n",
       "      <td>146.52</td>\n",
       "    </tr>\n",
       "    <tr>\n",
       "      <th>2020-01-15</th>\n",
       "      <td>209.77</td>\n",
       "      <td>56.70</td>\n",
       "      <td>245.21</td>\n",
       "      <td>147.01</td>\n",
       "    </tr>\n",
       "    <tr>\n",
       "      <th>2020-01-16</th>\n",
       "      <td>210.85</td>\n",
       "      <td>56.82</td>\n",
       "      <td>249.72</td>\n",
       "      <td>148.20</td>\n",
       "    </tr>\n",
       "    <tr>\n",
       "      <th>2020-01-17</th>\n",
       "      <td>211.98</td>\n",
       "      <td>56.94</td>\n",
       "      <td>249.46</td>\n",
       "      <td>149.17</td>\n",
       "    </tr>\n",
       "    <tr>\n",
       "      <th>2020-01-21</th>\n",
       "      <td>211.16</td>\n",
       "      <td>57.17</td>\n",
       "      <td>245.70</td>\n",
       "      <td>149.27</td>\n",
       "    </tr>\n",
       "  </tbody>\n",
       "</table>\n",
       "<p>341 rows × 4 columns</p>\n",
       "</div>"
      ],
      "text/plain": [
       "               MCD     KO      GS     JNJ\n",
       "Date                                     \n",
       "2018-09-12  164.74  46.24  228.15  139.36\n",
       "2018-09-13  162.40  45.83  228.33  139.89\n",
       "2018-09-14  160.84  45.99  229.24  139.49\n",
       "2018-09-17  158.14  46.32  227.89  139.96\n",
       "2018-09-18  157.77  45.93  228.89  140.54\n",
       "...            ...    ...     ...     ...\n",
       "2020-01-14  207.32  56.00  245.66  146.52\n",
       "2020-01-15  209.77  56.70  245.21  147.01\n",
       "2020-01-16  210.85  56.82  249.72  148.20\n",
       "2020-01-17  211.98  56.94  249.46  149.17\n",
       "2020-01-21  211.16  57.17  245.70  149.27\n",
       "\n",
       "[341 rows x 4 columns]"
      ]
     },
     "execution_count": 52,
     "metadata": {},
     "output_type": "execute_result"
    }
   ],
   "source": [
    "# concatenate them and rename the columns\n",
    "stocks = pd.concat([mcd.Close, ko.Close, gs.Close, jnj.Close], axis=1)\n",
    "stocks.columns = ['MCD', 'KO', 'GS', 'JNJ']\n",
    "stocks"
   ]
  },
  {
   "cell_type": "code",
   "execution_count": 53,
   "metadata": {},
   "outputs": [
    {
     "data": {
      "text/plain": [
       "MCD    0.000787\n",
       "KO     0.000682\n",
       "GS     0.000350\n",
       "JNJ    0.000274\n",
       "dtype: float64"
      ]
     },
     "execution_count": 53,
     "metadata": {},
     "output_type": "execute_result"
    }
   ],
   "source": [
    "stocks.pct_change(1).mean()"
   ]
  },
  {
   "cell_type": "code",
   "execution_count": 54,
   "metadata": {},
   "outputs": [
    {
     "data": {
      "text/html": [
       "<div>\n",
       "<style scoped>\n",
       "    .dataframe tbody tr th:only-of-type {\n",
       "        vertical-align: middle;\n",
       "    }\n",
       "\n",
       "    .dataframe tbody tr th {\n",
       "        vertical-align: top;\n",
       "    }\n",
       "\n",
       "    .dataframe thead th {\n",
       "        text-align: right;\n",
       "    }\n",
       "</style>\n",
       "<table border=\"1\" class=\"dataframe\">\n",
       "  <thead>\n",
       "    <tr style=\"text-align: right;\">\n",
       "      <th></th>\n",
       "      <th>MCD</th>\n",
       "      <th>KO</th>\n",
       "      <th>GS</th>\n",
       "      <th>JNJ</th>\n",
       "    </tr>\n",
       "    <tr>\n",
       "      <th>Date</th>\n",
       "      <th></th>\n",
       "      <th></th>\n",
       "      <th></th>\n",
       "      <th></th>\n",
       "    </tr>\n",
       "  </thead>\n",
       "  <tbody>\n",
       "    <tr>\n",
       "      <th>2018-09-12</th>\n",
       "      <td>NaN</td>\n",
       "      <td>NaN</td>\n",
       "      <td>NaN</td>\n",
       "      <td>NaN</td>\n",
       "    </tr>\n",
       "    <tr>\n",
       "      <th>2018-09-13</th>\n",
       "      <td>-0.014204</td>\n",
       "      <td>-0.008867</td>\n",
       "      <td>0.000789</td>\n",
       "      <td>0.003803</td>\n",
       "    </tr>\n",
       "    <tr>\n",
       "      <th>2018-09-14</th>\n",
       "      <td>-0.009606</td>\n",
       "      <td>0.003491</td>\n",
       "      <td>0.003985</td>\n",
       "      <td>-0.002859</td>\n",
       "    </tr>\n",
       "    <tr>\n",
       "      <th>2018-09-17</th>\n",
       "      <td>-0.016787</td>\n",
       "      <td>0.007175</td>\n",
       "      <td>-0.005889</td>\n",
       "      <td>0.003369</td>\n",
       "    </tr>\n",
       "    <tr>\n",
       "      <th>2018-09-18</th>\n",
       "      <td>-0.002340</td>\n",
       "      <td>-0.008420</td>\n",
       "      <td>0.004388</td>\n",
       "      <td>0.004144</td>\n",
       "    </tr>\n",
       "  </tbody>\n",
       "</table>\n",
       "</div>"
      ],
      "text/plain": [
       "                 MCD        KO        GS       JNJ\n",
       "Date                                              \n",
       "2018-09-12       NaN       NaN       NaN       NaN\n",
       "2018-09-13 -0.014204 -0.008867  0.000789  0.003803\n",
       "2018-09-14 -0.009606  0.003491  0.003985 -0.002859\n",
       "2018-09-17 -0.016787  0.007175 -0.005889  0.003369\n",
       "2018-09-18 -0.002340 -0.008420  0.004388  0.004144"
      ]
     },
     "execution_count": 54,
     "metadata": {},
     "output_type": "execute_result"
    }
   ],
   "source": [
    "stocks.pct_change(1).head()"
   ]
  },
  {
   "cell_type": "code",
   "execution_count": 55,
   "metadata": {},
   "outputs": [
    {
     "data": {
      "text/html": [
       "<div>\n",
       "<style scoped>\n",
       "    .dataframe tbody tr th:only-of-type {\n",
       "        vertical-align: middle;\n",
       "    }\n",
       "\n",
       "    .dataframe tbody tr th {\n",
       "        vertical-align: top;\n",
       "    }\n",
       "\n",
       "    .dataframe thead th {\n",
       "        text-align: right;\n",
       "    }\n",
       "</style>\n",
       "<table border=\"1\" class=\"dataframe\">\n",
       "  <thead>\n",
       "    <tr style=\"text-align: right;\">\n",
       "      <th></th>\n",
       "      <th>MCD</th>\n",
       "      <th>KO</th>\n",
       "      <th>GS</th>\n",
       "      <th>JNJ</th>\n",
       "    </tr>\n",
       "    <tr>\n",
       "      <th>Date</th>\n",
       "      <th></th>\n",
       "      <th></th>\n",
       "      <th></th>\n",
       "      <th></th>\n",
       "    </tr>\n",
       "  </thead>\n",
       "  <tbody>\n",
       "    <tr>\n",
       "      <th>2018-09-12</th>\n",
       "      <td>NaN</td>\n",
       "      <td>NaN</td>\n",
       "      <td>NaN</td>\n",
       "      <td>NaN</td>\n",
       "    </tr>\n",
       "    <tr>\n",
       "      <th>2018-09-13</th>\n",
       "      <td>-0.014306</td>\n",
       "      <td>-0.008906</td>\n",
       "      <td>0.000789</td>\n",
       "      <td>0.003796</td>\n",
       "    </tr>\n",
       "    <tr>\n",
       "      <th>2018-09-14</th>\n",
       "      <td>-0.009652</td>\n",
       "      <td>0.003485</td>\n",
       "      <td>0.003978</td>\n",
       "      <td>-0.002863</td>\n",
       "    </tr>\n",
       "    <tr>\n",
       "      <th>2018-09-17</th>\n",
       "      <td>-0.016929</td>\n",
       "      <td>0.007150</td>\n",
       "      <td>-0.005906</td>\n",
       "      <td>0.003364</td>\n",
       "    </tr>\n",
       "    <tr>\n",
       "      <th>2018-09-18</th>\n",
       "      <td>-0.002342</td>\n",
       "      <td>-0.008455</td>\n",
       "      <td>0.004378</td>\n",
       "      <td>0.004135</td>\n",
       "    </tr>\n",
       "  </tbody>\n",
       "</table>\n",
       "</div>"
      ],
      "text/plain": [
       "                 MCD        KO        GS       JNJ\n",
       "Date                                              \n",
       "2018-09-12       NaN       NaN       NaN       NaN\n",
       "2018-09-13 -0.014306 -0.008906  0.000789  0.003796\n",
       "2018-09-14 -0.009652  0.003485  0.003978 -0.002863\n",
       "2018-09-17 -0.016929  0.007150 -0.005906  0.003364\n",
       "2018-09-18 -0.002342 -0.008455  0.004378  0.004135"
      ]
     },
     "execution_count": 55,
     "metadata": {},
     "output_type": "execute_result"
    }
   ],
   "source": [
    "# log daily return\n",
    "log_return = np.log(stocks/stocks.shift(1))\n",
    "log_return.head()"
   ]
  },
  {
   "cell_type": "code",
   "execution_count": 57,
   "metadata": {},
   "outputs": [
    {
     "name": "stdout",
     "output_type": "stream",
     "text": [
      "Index(['MCD', 'KO', 'GS', 'JNJ'], dtype='object')\n",
      "Random Weights:\n",
      "[0.21954447 0.44098201 0.70431503 0.66102909]\n",
      "Rebalance\n",
      "[0.10837043 0.21767531 0.34766042 0.32629384]\n"
     ]
    }
   ],
   "source": [
    "print(stocks.columns)\n",
    "\n",
    "weights = np.array(np.random.random(4))\n",
    "print('Random Weights:')\n",
    "print(weights)\n",
    "\n",
    "print('Rebalance')\n",
    "weights = weights/np.sum(weights)\n",
    "print(weights)"
   ]
  },
  {
   "cell_type": "code",
   "execution_count": 58,
   "metadata": {},
   "outputs": [
    {
     "name": "stdout",
     "output_type": "stream",
     "text": [
      "Expected Portfolio Return\n",
      "0.08988210291523915\n",
      "Expected Volatility\n",
      "0.141941703080142\n",
      "Sharpe Ratio\n",
      "0.6332325240911801\n"
     ]
    }
   ],
   "source": [
    "# expected return\n",
    "print('Expected Portfolio Return')\n",
    "exp_ret = np.sum((log_return.mean()*weights)*252)\n",
    "print(exp_ret)\n",
    "\n",
    "# expected volatility\n",
    "print('Expected Volatility')\n",
    "exp_vol = np.sqrt(np.dot(weights.T,np.dot(log_return.cov()*252, weights)))\n",
    "print(exp_vol)\n",
    "\n",
    "# Sharpe Ratio\n",
    "print('Sharpe Ratio')\n",
    "SR = exp_ret/exp_vol\n",
    "print(SR)"
   ]
  },
  {
   "cell_type": "markdown",
   "metadata": {},
   "source": [
    "Now we will repeat the above process over 1000 times "
   ]
  },
  {
   "cell_type": "code",
   "execution_count": 63,
   "metadata": {},
   "outputs": [],
   "source": [
    "num_ports = 8000\n",
    "all_weights = np.zeros((num_ports, len(stocks.columns)))\n",
    "ret_arr = np.zeros(num_ports)\n",
    "vol_arr = np.zeros(num_ports)\n",
    "sharpe_arr = np.zeros(num_ports)\n",
    "\n",
    "for ind in range(num_ports): \n",
    "    # weights \n",
    "    weights = np.array(np.random.random(4)) \n",
    "    weights = weights/np.sum(weights)  \n",
    "    # save the weights\n",
    "    all_weights[ind,:] = weights\n",
    "    # expected return \n",
    "    ret_arr[ind] = np.sum((log_return.mean()*weights)*252)\n",
    "\n",
    "    # expected volatility \n",
    "    vol_arr[ind] = np.sqrt(np.dot(weights.T,np.dot(log_return.cov()*252, weights)))\n",
    "\n",
    "    # Sharpe Ratio \n",
    "    sharpe_arr[ind] = ret_arr[ind]/vol_arr[ind]"
   ]
  },
  {
   "cell_type": "code",
   "execution_count": 64,
   "metadata": {},
   "outputs": [
    {
     "data": {
      "text/plain": [
       "1.232583481117841"
      ]
     },
     "execution_count": 64,
     "metadata": {},
     "output_type": "execute_result"
    }
   ],
   "source": [
    "sharpe_arr.max()"
   ]
  },
  {
   "cell_type": "markdown",
   "metadata": {},
   "source": [
    "If we then get the location of the maximum Sharpe Ratio and then get the allocation for that index. This shows us the optimal allocation out of the 8000 random allocations:"
   ]
  },
  {
   "cell_type": "code",
   "execution_count": 65,
   "metadata": {},
   "outputs": [
    {
     "data": {
      "text/plain": [
       "7098"
      ]
     },
     "execution_count": 65,
     "metadata": {},
     "output_type": "execute_result"
    }
   ],
   "source": [
    "sharpe_arr.argmax()"
   ]
  },
  {
   "cell_type": "code",
   "execution_count": 66,
   "metadata": {},
   "outputs": [
    {
     "data": {
      "text/plain": [
       "array([0.5435089, 0.4213097, 0.0333299, 0.0018515])"
      ]
     },
     "execution_count": 66,
     "metadata": {},
     "output_type": "execute_result"
    }
   ],
   "source": [
    "all_weights[7098, :]"
   ]
  },
  {
   "cell_type": "markdown",
   "metadata": {},
   "source": [
    "These are the best allocations we have received using MCMC. Lets compare how we did from the original Allocation"
   ]
  },
  {
   "cell_type": "markdown",
   "metadata": {},
   "source": [
    "Original Allocation - \n",
    "\n",
    "- 25% in MCD\n",
    "- 10% in KO\n",
    "- 30% in JNJ\n",
    "- 35% in GS\n",
    "\n",
    "MCMC Allocation - \n",
    "\n",
    "- 54% in MCD\n",
    "- 42% in KO\n",
    "- 3% in JNJ\n",
    "- 0.1% IN gs\n"
   ]
  },
  {
   "cell_type": "markdown",
   "metadata": {},
   "source": [
    "### Initial Allocation"
   ]
  },
  {
   "cell_type": "code",
   "execution_count": null,
   "metadata": {},
   "outputs": [],
   "source": [
    "import matplotlib.pyplot as plt\n",
    "\n",
    "# Pie chart, where the slices will be ordered and plotted counter-clockwise:\n",
    "labels = 'MCD', 'KO', 'JNJ', 'GS'\n",
    "sizes = [25, 10, 30, 35]\n",
    "\n",
    "fig1, ax1 = plt.subplots()\n",
    "ax1.pie(sizes, explode=explode, labels=labels, autopct='%1.1f%%',\n",
    "        shadow=True, startangle=90)\n",
    "ax1.axis('equal')  # Equal aspect ratio ensures that pie is drawn as a circle.\n",
    "\n",
    "plt.show()"
   ]
  },
  {
   "cell_type": "code",
   "execution_count": 68,
   "metadata": {},
   "outputs": [
    {
     "data": {
      "image/png": "[encoded data removed]",
      "text/plain": [
       "<Figure size 432x288 with 1 Axes>"
      ]
     },
     "metadata": {},
     "output_type": "display_data"
    }
   ],
   "source": [
    "import matplotlib.pyplot as plt\n",
    "\n",
    "# Pie chart, where the slices will be ordered and plotted counter-clockwise:\n",
    "labels = 'MCD', 'KO', 'JNJ', 'GS'\n",
    "sizes = [25, 10, 30, 35]\n",
    "explode = (0, 0.1, 0, 0)  # only \"explode\" the 2nd slice (i.e. 'Hogs')\n",
    "\n",
    "fig1, ax1 = plt.subplots()\n",
    "ax1.pie(sizes, explode=explode, labels=labels, autopct='%1.1f%%',\n",
    "        shadow=True, startangle=90)\n",
    "ax1.axis('equal')  # Equal aspect ratio ensures that pie is drawn as a circle.\n",
    "\n",
    "plt.show()"
   ]
  },
  {
   "cell_type": "markdown",
   "metadata": {},
   "source": [
    "### After MCMC"
   ]
  },
  {
   "cell_type": "code",
   "execution_count": null,
   "metadata": {},
   "outputs": [],
   "source": [
    "import matplotlib.pyplot as plt\n",
    "\n",
    "# Pie chart, where the slices will be ordered and plotted counter-clockwise:\n",
    "labels = 'MCD', 'KO', 'JNJ', 'GS'\n",
    "sizes = [54, 42, 3, 0.1]\n",
    "\n",
    "fig1, ax1 = plt.subplots()\n",
    "ax1.pie(sizes, explode=explode, labels=labels, autopct='%1.1f%%',\n",
    "        shadow=True, startangle=90)\n",
    "ax1.axis('equal')  # Equal aspect ratio ensures that pie is drawn as a circle.\n",
    "\n",
    "plt.show()"
   ]
  },
  {
   "cell_type": "code",
   "execution_count": 69,
   "metadata": {},
   "outputs": [
    {
     "data": {
      "image/png": "[encoded data removed]",
      "text/plain": [
       "<Figure size 432x288 with 1 Axes>"
      ]
     },
     "metadata": {},
     "output_type": "display_data"
    }
   ],
   "source": [
    "import matplotlib.pyplot as plt\n",
    "\n",
    "# Pie chart, where the slices will be ordered and plotted counter-clockwise:\n",
    "labels = 'MCD', 'KO', 'JNJ', 'GS'\n",
    "sizes = [54, 42, 3, 0.1]\n",
    "\n",
    "fig1, ax1 = plt.subplots()\n",
    "ax1.pie(sizes, explode=explode, labels=labels, autopct='%1.1f%%',\n",
    "        shadow=True, startangle=90)\n",
    "ax1.axis('equal')  # Equal aspect ratio ensures that pie is drawn as a circle.\n",
    "\n",
    "plt.show()"
   ]
  },
  {
   "cell_type": "markdown",
   "metadata": {},
   "source": [
    "### Portfolio Optimization: Optimization Algorithm\n",
    "Let's now move on from random allocations to a mathematical optimization algorithm.\n",
    "\n",
    "All of the heavy lifting for this optimization will be done with SciPy, so we just have to do a few things to set up the optimization function."
   ]
  },
  {
   "cell_type": "code",
   "execution_count": 85,
   "metadata": {},
   "outputs": [],
   "source": [
    "from scipy.optimize import minimize\n",
    "\n",
    "def get_ret_vol_sr(weights): \n",
    "    weights = np.array(weights)\n",
    "    ret = np.sum(log_return.mean() * weights) * 252\n",
    "    vol = np.sqrt(np.dot(weights.T,np.dot(log_return .cov()*252,weights)))\n",
    "    sr = ret/vol \n",
    "    return np.array([ret,vol,sr])\n",
    "\n",
    "\n",
    "# minimize negative Sharpe Ratio\n",
    "def neg_sharpe(weights): \n",
    "    return get_ret_vol_sr(weights)[2] * -1\n",
    "\n",
    "# check allocation sums to 1\n",
    "def check_sum(weights): \n",
    "    return np.sum(weights) - 1"
   ]
  },
  {
   "cell_type": "code",
   "execution_count": 81,
   "metadata": {},
   "outputs": [],
   "source": [
    "# create constraint variable\n",
    "cons = ({'type':'eq','fun':check_sum})"
   ]
  },
  {
   "cell_type": "code",
   "execution_count": 82,
   "metadata": {},
   "outputs": [],
   "source": [
    "# create weight boundaries\n",
    "bounds = ((0,1),(0,1),(0,1),(0,1))"
   ]
  },
  {
   "cell_type": "code",
   "execution_count": 83,
   "metadata": {},
   "outputs": [],
   "source": [
    "# initial guess\n",
    "init_guess = [0.25, 0.25, 0.25, 0.25]"
   ]
  },
  {
   "cell_type": "markdown",
   "metadata": {},
   "source": [
    "First we call minimize and pass in what we're trying to minimize - negative Sharpe, our initial guess, we set the minimization method to SLSQP, and we set our bounds and constraints:"
   ]
  },
  {
   "cell_type": "code",
   "execution_count": 86,
   "metadata": {},
   "outputs": [],
   "source": [
    "opt_results = minimize(neg_sharpe, init_guess, method='SLSQP', bounds=bounds, constraints=cons)"
   ]
  },
  {
   "cell_type": "code",
   "execution_count": 87,
   "metadata": {},
   "outputs": [
    {
     "data": {
      "text/plain": [
       "     fun: -1.2367256869326764\n",
       "     jac: array([ 7.86781311e-05, -1.11460686e-04,  2.17465907e-02,  1.84697896e-01])\n",
       " message: 'Optimization terminated successfully.'\n",
       "    nfev: 24\n",
       "     nit: 4\n",
       "    njev: 4\n",
       "  status: 0\n",
       " success: True\n",
       "       x: array([5.86101757e-01, 4.13898243e-01, 0.00000000e+00, 7.91467586e-17])"
      ]
     },
     "execution_count": 87,
     "metadata": {},
     "output_type": "execute_result"
    }
   ],
   "source": [
    "opt_results"
   ]
  },
  {
   "cell_type": "code",
   "execution_count": 88,
   "metadata": {},
   "outputs": [
    {
     "data": {
      "text/plain": [
       "array([5.86101757e-01, 4.13898243e-01, 0.00000000e+00, 7.91467586e-17])"
      ]
     },
     "execution_count": 88,
     "metadata": {},
     "output_type": "execute_result"
    }
   ],
   "source": [
    "opt_results.x"
   ]
  },
  {
   "cell_type": "code",
   "execution_count": 89,
   "metadata": {},
   "outputs": [
    {
     "data": {
      "text/plain": [
       "array([0.17293204, 0.13983055, 1.23672569])"
      ]
     },
     "execution_count": 89,
     "metadata": {},
     "output_type": "execute_result"
    }
   ],
   "source": [
    "get_ret_vol_sr(opt_results.x)"
   ]
  },
  {
   "cell_type": "markdown",
   "metadata": {},
   "source": [
    "The Optimal results of the Optimization algorithm are 1.2367"
   ]
  },
  {
   "cell_type": "markdown",
   "metadata": {},
   "source": [
    "### License\n",
    "MIT License\n",
    "\n",
    "Copyright (c) 2022 Israel Bassey\n",
    "\n",
    "Permission is hereby granted, free of charge, to any person obtaining a copy of this software and associated documentation files (the \"Software\"), to deal in the Software without restriction, including without limitation the rights to use, copy, modify, merge, publish, distribute, sublicense, and/or sell copies of the Software, and to permit persons to whom the Software is furnished to do so, subject to the following conditions:\n",
    "\n",
    "The above copyright notice and this permission notice shall be included in all copies or substantial portions of the Software.\n",
    "\n",
    "THE SOFTWARE IS PROVIDED \"AS IS\", WITHOUT WARRANTY OF ANY KIND, EXPRESS OR IMPLIED, INCLUDING BUT NOT LIMITED TO THE WARRANTIES OF MERCHANTABILITY, FITNESS FOR A PARTICULAR PURPOSE AND NONINFRINGEMENT. IN NO EVENT SHALL THE AUTHORS OR COPYRIGHT HOLDERS BE LIABLE FOR ANY CLAIM, DAMAGES OR OTHER LIABILITY, WHETHER IN AN ACTION OF CONTRACT, TORT OR OTHERWISE, ARISING FROM, OUT OF OR IN CONNECTION WITH THE SOFTWARE OR THE USE OR OTHER DEALINGS IN THE SOFTWARE."
   ]
  }
 ],
 "metadata": {
  "kernelspec": {
   "display_name": "Python 3.10.6 64-bit",
   "language": "python",
   "name": "python3"
  },
  "language_info": {
   "codemirror_mode": {
    "name": "ipython",
    "version": 3
   },
   "file_extension": ".py",
   "mimetype": "text/x-python",
   "name": "python",
   "nbconvert_exporter": "python",
   "pygments_lexer": "ipython3",
   "version": "3.10.6"
  },
  "vscode": {
   "interpreter": {
    "hash": "38f530054430063d0162e2c853e2373597aa4786130927fb5f9e69ac5b1028ae"
   }
  }
 },
 "nbformat": 4,
 "nbformat_minor": 2
}
